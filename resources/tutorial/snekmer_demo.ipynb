{
 "cells": [
  {
   "cell_type": "markdown",
   "id": "284c313a-e684-4b96-b12b-2c669f12a87b",
   "metadata": {},
   "source": [
    "# Snekmer Demo\n",
    "\n",
    "In this notebook, we will demonstrate how to apply Snekmer toward the analysis of protein sequences."
   ]
  },
  {
   "cell_type": "markdown",
   "id": "7319a320",
   "metadata": {},
   "source": [
    "## Getting Started\n",
    "\n",
    "### Workflow\n",
    "\n",
    "Snekmer proceeds through a defined workflow executed as individual steps on Snakemake. Two operation modes are available: `model` (supervised machine learning) and `cluster` (unsupervised clustering). The user should select the mode that best suits their individual use case.\n",
    "\n",
    "<img src=\"https://raw.githubusercontent.com/PNNL-CompBio/Snekmer/main/resources/snekmer_workflow.svg\" width=\"70%\" height=\"70%\" >\n",
    "\n"
   ]
  },
  {
   "cell_type": "markdown",
   "id": "e180e9fb",
   "metadata": {},
   "source": [
    "### Notes on Using Snekmer\n",
    "\n",
    "Snekmer assumes that the user will primarily process input files using the command line. For more detailed instructions, refer to the [documentation](https://snekmer.readthedocs.io/en/latest/getting_started/cli.html).\n",
    "\n",
    "The basic process for running Snekmer is as follows:\n",
    "\n",
    "1. Verify that your file directory structure is correct and that the top-level directory contains a **config.yaml** file.\n",
    "    - A template configuration file is included in the Snekmer code repository [here](https://github.com/PNNL-CompBio/Snekmer/blob/main/resources/config.yaml).\n",
    "2. Modify **config.yaml** as needed.\n",
    "3. Use the command line to navigate to the directory containing both the **config.yaml** file and **_input_** directory.\n",
    "4. Run `snekmer cluster`, `snekmer model`, or `snekmer search`.\n",
    "\n",
    "Depending on the selected operation mode, output files will vary.\n",
    "\n",
    "The process detailed above is handled by the included [tutorial](https://snekmer.readthedocs.io/en/latest/tutorial/index.html). We will use this demo to break down the process followed by the tutorial and understand the output files created in the process."
   ]
  },
  {
   "cell_type": "markdown",
   "id": "2a5fe0b3-a906-4b4b-9e86-00724bb34746",
   "metadata": {},
   "source": [
    "## Running Snekmer\n",
    "\n",
    "First, install Snekmer using the instructions in the [user installation guide](https://snekmer.readthedocs.io/en/latest/getting_started/install.html).\n",
    "\n",
    "To ensure that the tutorial runs correctly, activate the conda environment containing your Snekmer installation and run the notebook from the environment.\n",
    "\n",
    "Next, run the [Snekmer tutorial](https://snekmer.readthedocs.io/en/latest/tutorial/index.html). This runs all three Snekmer modes on the demo example files and produces all output files. The tutorial uses the included default configuration parameters to guide the analysis, but the user can modify these parameters if a different configuration set is desired. The tutorial command line instructions are copied below:\n",
    "\n",
    "```bash\n",
    "    conda activate snekmer\n",
    "    cd resources/tutorial/demo_example\n",
    "    ./run_demo.sh\n",
    "```\n",
    "    "
   ]
  },
  {
   "cell_type": "markdown",
   "id": "bc3992e2-8c23-49ac-856e-89a2810867ea",
   "metadata": {},
   "source": [
    "Finally, we will initialize some parameters and parse filenames for this demo notebook."
   ]
  },
  {
   "cell_type": "code",
   "execution_count": null,
   "id": "24ab6fcc-374d-4e85-b654-43b6bfae7025",
   "metadata": {},
   "outputs": [],
   "source": [
    "# imports\n",
    "import glob\n",
    "import os\n",
    "import yaml\n",
    "from itertools import product\n",
    "\n",
    "import numpy as np\n",
    "import pandas as pd\n",
    "import matplotlib.pyplot as plt\n",
    "import seaborn as sns"
   ]
  },
  {
   "cell_type": "code",
   "execution_count": 4,
   "id": "d590c494-10d5-4dab-9381-f8ab40a5a444",
   "metadata": {},
   "outputs": [
    {
     "name": "stdout",
     "output_type": "stream",
     "text": [
      "{'k': 14, 'alphabet': 0, 'input_file_exts': ['fasta', 'fna', 'faa', 'fa'], 'input_file_regex': '.*', 'nested_output': False, 'score': {'scaler': True, 'scaler_kwargs': {'n': 0.25}, 'labels': 'None', 'lname': 'None'}, 'cluster': {'method': 'agglomerative-jaccard', 'params': {'n_clusters': 'None', 'linkage': 'average', 'distance_threshold': 0.92, 'compute_full_tree': True}, 'cluster_plots': False, 'min_rep': None, 'max_rep': None, 'save_matrix': True, 'dist_thresh': 100}, 'model': {'cv': 5, 'random_state': 'None'}, 'model_dir': 'output/example-model/', 'basis_dir': 'output/example-model/', 'score_dir': 'output/example-model/'}\n"
     ]
    }
   ],
   "source": [
    "# load config file\n",
    "with open(os.path.join(\"..\", \"..\", \"resources\", \"config.yaml\"), \"r\") as configfile:\n",
    "    config = yaml.safe_load(configfile)\n",
    "\n",
    "print(config)"
   ]
  },
  {
   "cell_type": "code",
   "execution_count": 8,
   "id": "dc8d8a29-e5be-45ca-b58b-a05134cb51a4",
   "metadata": {},
   "outputs": [
    {
     "name": "stdout",
     "output_type": "stream",
     "text": [
      "['TIGR03149', 'nirS', 'nxrA']\n"
     ]
    }
   ],
   "source": [
    "filenames = sorted(\n",
    "    [\n",
    "        fa.rstrip(\".gz\")\n",
    "        for fa, ext in product(\n",
    "            glob.glob(os.path.join(\"demo_example\", \"input\", \"*\")),\n",
    "            config[\"input_file_exts\"],\n",
    "        )\n",
    "        if fa.rstrip(\".gz\").endswith(f\".{ext}\")\n",
    "    ]\n",
    ")\n",
    "\n",
    "families = sorted([os.path.splitext(os.path.basename(f))[0] for f in filenames])\n",
    "\n",
    "print(families)"
   ]
  },
  {
   "cell_type": "markdown",
   "id": "9a92b722-8834-4c06-81e1-b3f4c512aca2",
   "metadata": {},
   "source": [
    "## Snekmer Cluster Mode\n",
    "\n",
    "Snekmer cluster output files can be found in the **cluster** directory."
   ]
  },
  {
   "cell_type": "code",
   "execution_count": 22,
   "id": "a7d55546-398b-4f58-8267-119b15e3b19b",
   "metadata": {},
   "outputs": [
    {
     "data": {
      "text/html": [
       "<div>\n",
       "<style scoped>\n",
       "    .dataframe tbody tr th:only-of-type {\n",
       "        vertical-align: middle;\n",
       "    }\n",
       "\n",
       "    .dataframe tbody tr th {\n",
       "        vertical-align: top;\n",
       "    }\n",
       "\n",
       "    .dataframe thead th {\n",
       "        text-align: right;\n",
       "    }\n",
       "</style>\n",
       "<table border=\"1\" class=\"dataframe\">\n",
       "  <thead>\n",
       "    <tr style=\"text-align: right;\">\n",
       "      <th></th>\n",
       "      <th>filename</th>\n",
       "      <th>sequence_id</th>\n",
       "      <th>sequence_length</th>\n",
       "      <th>background</th>\n",
       "      <th>cluster</th>\n",
       "    </tr>\n",
       "  </thead>\n",
       "  <tbody>\n",
       "    <tr>\n",
       "      <th>0</th>\n",
       "      <td>TIGR03149</td>\n",
       "      <td>WP_017422323.1</td>\n",
       "      <td>228</td>\n",
       "      <td>False</td>\n",
       "      <td>0</td>\n",
       "    </tr>\n",
       "    <tr>\n",
       "      <th>1</th>\n",
       "      <td>TIGR03149</td>\n",
       "      <td>YP_204935.1</td>\n",
       "      <td>228</td>\n",
       "      <td>False</td>\n",
       "      <td>0</td>\n",
       "    </tr>\n",
       "    <tr>\n",
       "      <th>2</th>\n",
       "      <td>TIGR03149</td>\n",
       "      <td>WP_005721361.1</td>\n",
       "      <td>226</td>\n",
       "      <td>False</td>\n",
       "      <td>0</td>\n",
       "    </tr>\n",
       "    <tr>\n",
       "      <th>3</th>\n",
       "      <td>TIGR03149</td>\n",
       "      <td>NP_798306.1</td>\n",
       "      <td>228</td>\n",
       "      <td>False</td>\n",
       "      <td>0</td>\n",
       "    </tr>\n",
       "    <tr>\n",
       "      <th>4</th>\n",
       "      <td>TIGR03149</td>\n",
       "      <td>NP_439225.1</td>\n",
       "      <td>225</td>\n",
       "      <td>False</td>\n",
       "      <td>0</td>\n",
       "    </tr>\n",
       "    <tr>\n",
       "      <th>...</th>\n",
       "      <td>...</td>\n",
       "      <td>...</td>\n",
       "      <td>...</td>\n",
       "      <td>...</td>\n",
       "      <td>...</td>\n",
       "    </tr>\n",
       "    <tr>\n",
       "      <th>96</th>\n",
       "      <td>nxrA</td>\n",
       "      <td>WP_080886776.1</td>\n",
       "      <td>1147</td>\n",
       "      <td>False</td>\n",
       "      <td>0</td>\n",
       "    </tr>\n",
       "    <tr>\n",
       "      <th>97</th>\n",
       "      <td>nxrA</td>\n",
       "      <td>WP_053381280.1</td>\n",
       "      <td>1145</td>\n",
       "      <td>False</td>\n",
       "      <td>0</td>\n",
       "    </tr>\n",
       "    <tr>\n",
       "      <th>98</th>\n",
       "      <td>nxrA</td>\n",
       "      <td>WP_052491869.1</td>\n",
       "      <td>1163</td>\n",
       "      <td>False</td>\n",
       "      <td>0</td>\n",
       "    </tr>\n",
       "    <tr>\n",
       "      <th>99</th>\n",
       "      <td>nxrA</td>\n",
       "      <td>WP_015257936.1</td>\n",
       "      <td>1167</td>\n",
       "      <td>False</td>\n",
       "      <td>0</td>\n",
       "    </tr>\n",
       "    <tr>\n",
       "      <th>100</th>\n",
       "      <td>nxrA</td>\n",
       "      <td>WP_012964344.1</td>\n",
       "      <td>1154</td>\n",
       "      <td>False</td>\n",
       "      <td>0</td>\n",
       "    </tr>\n",
       "  </tbody>\n",
       "</table>\n",
       "<p>101 rows × 5 columns</p>\n",
       "</div>"
      ],
      "text/plain": [
       "      filename     sequence_id  sequence_length  background  cluster\n",
       "0    TIGR03149  WP_017422323.1              228       False        0\n",
       "1    TIGR03149     YP_204935.1              228       False        0\n",
       "2    TIGR03149  WP_005721361.1              226       False        0\n",
       "3    TIGR03149     NP_798306.1              228       False        0\n",
       "4    TIGR03149     NP_439225.1              225       False        0\n",
       "..         ...             ...              ...         ...      ...\n",
       "96        nxrA  WP_080886776.1             1147       False        0\n",
       "97        nxrA  WP_053381280.1             1145       False        0\n",
       "98        nxrA  WP_052491869.1             1163       False        0\n",
       "99        nxrA  WP_015257936.1             1167       False        0\n",
       "100       nxrA  WP_012964344.1             1154       False        0\n",
       "\n",
       "[101 rows x 5 columns]"
      ]
     },
     "execution_count": 22,
     "metadata": {},
     "output_type": "execute_result"
    }
   ],
   "source": [
    "# read cluster results\n",
    "results = pd.read_csv(os.path.join(\"demo_example\", \"output\", \"cluster\", \"snekmer.csv\"))\n",
    "results"
   ]
  },
  {
   "cell_type": "code",
   "execution_count": 23,
   "id": "48ee5ea0-4b4d-4f13-9714-2664f58c4d2a",
   "metadata": {},
   "outputs": [
    {
     "data": {
      "text/plain": [
       "array([0])"
      ]
     },
     "execution_count": 23,
     "metadata": {},
     "output_type": "execute_result"
    }
   ],
   "source": [
    "results[\"cluster\"].unique()"
   ]
  },
  {
   "cell_type": "markdown",
   "id": "dad14a7c-f33e-4e6a-bb19-305f6a1ec0b3",
   "metadata": {},
   "source": [
    "## Snekmer Model Mode\n",
    "\n",
    "Snekmer model output files can be found in the **model** directory."
   ]
  },
  {
   "cell_type": "markdown",
   "id": "95dd5730-5146-4321-86db-9db7e1d0631a",
   "metadata": {},
   "source": [
    "Finally, we train a kmer-based scoring model for the family of interest based on the prevalence of kmers in each family."
   ]
  },
  {
   "cell_type": "code",
   "execution_count": 12,
   "id": "8e1643c1",
   "metadata": {},
   "outputs": [
    {
     "name": "stdout",
     "output_type": "stream",
     "text": [
      "example family:\t nxrA\n"
     ]
    },
    {
     "data": {
      "text/html": [
       "<div>\n",
       "<style scoped>\n",
       "    .dataframe tbody tr th:only-of-type {\n",
       "        vertical-align: middle;\n",
       "    }\n",
       "\n",
       "    .dataframe tbody tr th {\n",
       "        vertical-align: top;\n",
       "    }\n",
       "\n",
       "    .dataframe thead th {\n",
       "        text-align: right;\n",
       "    }\n",
       "</style>\n",
       "<table border=\"1\" class=\"dataframe\">\n",
       "  <thead>\n",
       "    <tr style=\"text-align: right;\">\n",
       "      <th></th>\n",
       "      <th>filename</th>\n",
       "      <th>sequence_id</th>\n",
       "      <th>label</th>\n",
       "      <th>nxrA_score</th>\n",
       "    </tr>\n",
       "  </thead>\n",
       "  <tbody>\n",
       "    <tr>\n",
       "      <th>0</th>\n",
       "      <td>nxrA</td>\n",
       "      <td>WP_013249767.1</td>\n",
       "      <td>nxrA</td>\n",
       "      <td>0.779770</td>\n",
       "    </tr>\n",
       "    <tr>\n",
       "      <th>1</th>\n",
       "      <td>nxrA</td>\n",
       "      <td>WP_080885705.1</td>\n",
       "      <td>nxrA</td>\n",
       "      <td>0.788867</td>\n",
       "    </tr>\n",
       "    <tr>\n",
       "      <th>2</th>\n",
       "      <td>nxrA</td>\n",
       "      <td>WP_013249749.1</td>\n",
       "      <td>nxrA</td>\n",
       "      <td>0.766159</td>\n",
       "    </tr>\n",
       "    <tr>\n",
       "      <th>3</th>\n",
       "      <td>nxrA</td>\n",
       "      <td>WP_053381689.1</td>\n",
       "      <td>nxrA</td>\n",
       "      <td>0.977140</td>\n",
       "    </tr>\n",
       "    <tr>\n",
       "      <th>4</th>\n",
       "      <td>nxrA</td>\n",
       "      <td>WP_080885591.1</td>\n",
       "      <td>nxrA</td>\n",
       "      <td>0.811505</td>\n",
       "    </tr>\n",
       "    <tr>\n",
       "      <th>...</th>\n",
       "      <td>...</td>\n",
       "      <td>...</td>\n",
       "      <td>...</td>\n",
       "      <td>...</td>\n",
       "    </tr>\n",
       "    <tr>\n",
       "      <th>96</th>\n",
       "      <td>nirS</td>\n",
       "      <td>WP_011383805.1</td>\n",
       "      <td>nirS</td>\n",
       "      <td>0.050790</td>\n",
       "    </tr>\n",
       "    <tr>\n",
       "      <th>97</th>\n",
       "      <td>nirS</td>\n",
       "      <td>WP_049724801.1</td>\n",
       "      <td>nirS</td>\n",
       "      <td>0.070329</td>\n",
       "    </tr>\n",
       "    <tr>\n",
       "      <th>98</th>\n",
       "      <td>nirS</td>\n",
       "      <td>WP_041099757.1</td>\n",
       "      <td>nirS</td>\n",
       "      <td>0.060629</td>\n",
       "    </tr>\n",
       "    <tr>\n",
       "      <th>99</th>\n",
       "      <td>nirS</td>\n",
       "      <td>WP_015258444.1</td>\n",
       "      <td>nirS</td>\n",
       "      <td>0.077986</td>\n",
       "    </tr>\n",
       "    <tr>\n",
       "      <th>100</th>\n",
       "      <td>nirS</td>\n",
       "      <td>WP_014238329.1</td>\n",
       "      <td>nirS</td>\n",
       "      <td>0.048869</td>\n",
       "    </tr>\n",
       "  </tbody>\n",
       "</table>\n",
       "<p>101 rows × 4 columns</p>\n",
       "</div>"
      ],
      "text/plain": [
       "    filename     sequence_id label  nxrA_score\n",
       "0       nxrA  WP_013249767.1  nxrA    0.779770\n",
       "1       nxrA  WP_080885705.1  nxrA    0.788867\n",
       "2       nxrA  WP_013249749.1  nxrA    0.766159\n",
       "3       nxrA  WP_053381689.1  nxrA    0.977140\n",
       "4       nxrA  WP_080885591.1  nxrA    0.811505\n",
       "..       ...             ...   ...         ...\n",
       "96      nirS  WP_011383805.1  nirS    0.050790\n",
       "97      nirS  WP_049724801.1  nirS    0.070329\n",
       "98      nirS  WP_041099757.1  nirS    0.060629\n",
       "99      nirS  WP_015258444.1  nirS    0.077986\n",
       "100     nirS  WP_014238329.1  nirS    0.048869\n",
       "\n",
       "[101 rows x 4 columns]"
      ]
     },
     "execution_count": 12,
     "metadata": {},
     "output_type": "execute_result"
    }
   ],
   "source": [
    "# show kmer probability scores for family assignment\n",
    "example_family = np.random.choice(families)\n",
    "print(\"example family:\\t\", example_family)\n",
    "\n",
    "# show relevant subset of columns\n",
    "example_score_output = pd.read_csv(\n",
    "    os.path.join(\"demo_example\", \"output\", \"scoring\", \"sequences\", f\"{example_family}.csv.gz\")\n",
    ")[[\"filename\", \"sequence_id\", \"label\", f\"{example_family}_score\"]]\n",
    "example_score_output"
   ]
  },
  {
   "cell_type": "code",
   "execution_count": 14,
   "id": "125b0907-bc71-49c9-8897-9b5273bc6cde",
   "metadata": {
    "tags": []
   },
   "outputs": [
    {
     "data": {
      "image/png": "[encoded data removed]",
      "text/plain": [
       "<Figure size 900x300 with 1 Axes>"
      ]
     },
     "metadata": {
      "needs_background": "light"
     },
     "output_type": "display_data"
    },
    {
     "data": {
      "image/png": "[encoded data removed]",
      "text/plain": [
       "<Figure size 900x300 with 1 Axes>"
      ]
     },
     "metadata": {
      "needs_background": "light"
     },
     "output_type": "display_data"
    },
    {
     "data": {
      "image/png": "[encoded data removed]",
      "text/plain": [
       "<Figure size 900x300 with 1 Axes>"
      ]
     },
     "metadata": {
      "needs_background": "light"
     },
     "output_type": "display_data"
    }
   ],
   "source": [
    "for fam in families:\n",
    "    example_score_output = pd.read_csv(\n",
    "        os.path.join(\"demo_example\", \"output\", \"scoring\", \"sequences\", f\"{fam}.csv.gz\")\n",
    "    )[[\"filename\", \"sequence_id\", \"label\", f\"{fam}_score\"]]\n",
    "\n",
    "    plt.figure(figsize=(6, 2), dpi=150)\n",
    "    ax = sns.boxplot(x=\"label\", y=f\"{fam}_score\", data=example_score_output)\n",
    "\n",
    "    ax.set_title(f\"Distribution of {fam} Scores for Sequences in Different Families\")\n",
    "    ax.set_xlabel(\"Family\")\n",
    "    ax.set_ylabel(f\"{fam} Score\")"
   ]
  },
  {
   "cell_type": "markdown",
   "id": "fdc98b0f",
   "metadata": {},
   "source": [
    "We can assess how well the scores perform using the weights determined for each family. Note that it is immediately obvious that the `cNorB` scoring method performs well in identifying cNorB sequences versus the NapB and nirS sequences.\n",
    "\n",
    "Not all family scoring methods perform similarly well in terms of differentation between sequences belonging to different families. The user can manually inspect the other families, but we note that the NapB family scorer is worse at generating high separation between the in-family and out-of-family sequences. Differing scorer performances can be attributed to a variety of factors, e.g. parameters such as the alphabet and k, existing levels of similarity between sequences in different families, etc.\n",
    "\n",
    "The probabilities and scores assigned to each feature in the kmer set is also computed and output into a dataframe:"
   ]
  },
  {
   "cell_type": "markdown",
   "id": "650535c7",
   "metadata": {},
   "source": [
    "The contents of one of these dataframes is as follows:"
   ]
  },
  {
   "cell_type": "code",
   "execution_count": 15,
   "id": "0178e92c",
   "metadata": {},
   "outputs": [
    {
     "name": "stdout",
     "output_type": "stream",
     "text": [
      "nxrA\n"
     ]
    },
    {
     "data": {
      "text/html": [
       "<div>\n",
       "<style scoped>\n",
       "    .dataframe tbody tr th:only-of-type {\n",
       "        vertical-align: middle;\n",
       "    }\n",
       "\n",
       "    .dataframe tbody tr th {\n",
       "        vertical-align: top;\n",
       "    }\n",
       "\n",
       "    .dataframe thead th {\n",
       "        text-align: right;\n",
       "    }\n",
       "</style>\n",
       "<table border=\"1\" class=\"dataframe\">\n",
       "  <thead>\n",
       "    <tr style=\"text-align: right;\">\n",
       "      <th></th>\n",
       "      <th>kmer</th>\n",
       "      <th>sample</th>\n",
       "      <th>background</th>\n",
       "    </tr>\n",
       "  </thead>\n",
       "  <tbody>\n",
       "    <tr>\n",
       "      <th>0</th>\n",
       "      <td>VSVSVSSSSSVSVS</td>\n",
       "      <td>0.153846</td>\n",
       "      <td>NaN</td>\n",
       "    </tr>\n",
       "    <tr>\n",
       "      <th>1</th>\n",
       "      <td>SVSVSSSSSVSVSV</td>\n",
       "      <td>0.461538</td>\n",
       "      <td>NaN</td>\n",
       "    </tr>\n",
       "    <tr>\n",
       "      <th>2</th>\n",
       "      <td>VSVSSSSSVSVSVV</td>\n",
       "      <td>0.615385</td>\n",
       "      <td>NaN</td>\n",
       "    </tr>\n",
       "    <tr>\n",
       "      <th>3</th>\n",
       "      <td>SVSSSSSVSVSVVS</td>\n",
       "      <td>0.538462</td>\n",
       "      <td>NaN</td>\n",
       "    </tr>\n",
       "    <tr>\n",
       "      <th>4</th>\n",
       "      <td>VSSSSSVSVSVVSV</td>\n",
       "      <td>0.615385</td>\n",
       "      <td>NaN</td>\n",
       "    </tr>\n",
       "    <tr>\n",
       "      <th>...</th>\n",
       "      <td>...</td>\n",
       "      <td>...</td>\n",
       "      <td>...</td>\n",
       "    </tr>\n",
       "    <tr>\n",
       "      <th>3954</th>\n",
       "      <td>SVVSSSVSVSSVVS</td>\n",
       "      <td>0.066719</td>\n",
       "      <td>NaN</td>\n",
       "    </tr>\n",
       "    <tr>\n",
       "      <th>3955</th>\n",
       "      <td>VVSSSVSVSSVVSS</td>\n",
       "      <td>0.066719</td>\n",
       "      <td>NaN</td>\n",
       "    </tr>\n",
       "    <tr>\n",
       "      <th>3956</th>\n",
       "      <td>VSSSVSVSSVVSSS</td>\n",
       "      <td>0.076923</td>\n",
       "      <td>NaN</td>\n",
       "    </tr>\n",
       "    <tr>\n",
       "      <th>3957</th>\n",
       "      <td>SSSVSVSSVVSSSV</td>\n",
       "      <td>0.056515</td>\n",
       "      <td>NaN</td>\n",
       "    </tr>\n",
       "    <tr>\n",
       "      <th>3958</th>\n",
       "      <td>SSVSVSSVVSSSVS</td>\n",
       "      <td>0.076923</td>\n",
       "      <td>NaN</td>\n",
       "    </tr>\n",
       "  </tbody>\n",
       "</table>\n",
       "<p>3959 rows × 3 columns</p>\n",
       "</div>"
      ],
      "text/plain": [
       "                kmer    sample  background\n",
       "0     VSVSVSSSSSVSVS  0.153846         NaN\n",
       "1     SVSVSSSSSVSVSV  0.461538         NaN\n",
       "2     VSVSSSSSVSVSVV  0.615385         NaN\n",
       "3     SVSSSSSVSVSVVS  0.538462         NaN\n",
       "4     VSSSSSVSVSVVSV  0.615385         NaN\n",
       "...              ...       ...         ...\n",
       "3954  SVVSSSVSVSSVVS  0.066719         NaN\n",
       "3955  VVSSSVSVSSVVSS  0.066719         NaN\n",
       "3956  VSSSVSVSSVVSSS  0.076923         NaN\n",
       "3957  SSSVSVSSVVSSSV  0.056515         NaN\n",
       "3958  SSVSVSSVVSSSVS  0.076923         NaN\n",
       "\n",
       "[3959 rows x 3 columns]"
      ]
     },
     "execution_count": 15,
     "metadata": {},
     "output_type": "execute_result"
    }
   ],
   "source": [
    "print(example_family)\n",
    "pd.read_csv(os.path.join(\"demo_example\", \"output\", \"scoring\", \"weights\", f\"{example_family}.csv.gz\"))"
   ]
  },
  {
   "cell_type": "markdown",
   "id": "8cffa038-14c8-4ce0-9c5d-90f29649d0f2",
   "metadata": {},
   "source": [
    "Note that this example does not include any sequences specified as background sequences, and thus the `background` column does not contribute additional weights in scoring."
   ]
  },
  {
   "cell_type": "markdown",
   "id": "5582d1b3",
   "metadata": {},
   "source": [
    "The models are objects stored as pickle files (.PKL) that can be applied elsewhere, e.g. to a new set of unknown sequences."
   ]
  },
  {
   "cell_type": "markdown",
   "id": "82772d09",
   "metadata": {},
   "source": [
    "## Snekmer Search Mode\n",
    "\n",
    "Say a user trains the four models above, and would then like to score and evaluate sequences with unknown family assignments. The user can use `snekmer search`, which uses the kmer basis set for the desired family to create kmer vectors for unknown sequences, then apply the family scorer to the vectorized unknown sequences, and finally use the model to predict family assignments for the unknown sequences.\n",
    "\n",
    "These steps are illustrated below:"
   ]
  },
  {
   "cell_type": "code",
   "execution_count": 20,
   "id": "5d6e4d18",
   "metadata": {},
   "outputs": [
    {
     "name": "stdout",
     "output_type": "stream",
     "text": [
      "example family:\t nxrA\n"
     ]
    },
    {
     "data": {
      "text/html": [
       "<div>\n",
       "<style scoped>\n",
       "    .dataframe tbody tr th:only-of-type {\n",
       "        vertical-align: middle;\n",
       "    }\n",
       "\n",
       "    .dataframe tbody tr th {\n",
       "        vertical-align: top;\n",
       "    }\n",
       "\n",
       "    .dataframe thead th {\n",
       "        text-align: right;\n",
       "    }\n",
       "</style>\n",
       "<table border=\"1\" class=\"dataframe\">\n",
       "  <thead>\n",
       "    <tr style=\"text-align: right;\">\n",
       "      <th></th>\n",
       "      <th>filename</th>\n",
       "      <th>sequence_id</th>\n",
       "      <th>sequence_length</th>\n",
       "      <th>score</th>\n",
       "      <th>in_family</th>\n",
       "      <th>probability</th>\n",
       "      <th>model</th>\n",
       "    </tr>\n",
       "  </thead>\n",
       "  <tbody>\n",
       "    <tr>\n",
       "      <th>0</th>\n",
       "      <td>nxrA.faa</td>\n",
       "      <td>WP_013249767.1</td>\n",
       "      <td>1147</td>\n",
       "      <td>0.875191</td>\n",
       "      <td>True</td>\n",
       "      <td>0.904374</td>\n",
       "      <td>nxrA.model</td>\n",
       "    </tr>\n",
       "    <tr>\n",
       "      <th>1</th>\n",
       "      <td>nxrA.faa</td>\n",
       "      <td>WP_080885705.1</td>\n",
       "      <td>1148</td>\n",
       "      <td>0.898012</td>\n",
       "      <td>True</td>\n",
       "      <td>0.912183</td>\n",
       "      <td>nxrA.model</td>\n",
       "    </tr>\n",
       "    <tr>\n",
       "      <th>2</th>\n",
       "      <td>nxrA.faa</td>\n",
       "      <td>WP_013249749.1</td>\n",
       "      <td>1146</td>\n",
       "      <td>0.872509</td>\n",
       "      <td>True</td>\n",
       "      <td>0.903416</td>\n",
       "      <td>nxrA.model</td>\n",
       "    </tr>\n",
       "    <tr>\n",
       "      <th>3</th>\n",
       "      <td>nxrA.faa</td>\n",
       "      <td>WP_053381689.1</td>\n",
       "      <td>1145</td>\n",
       "      <td>1.015605</td>\n",
       "      <td>True</td>\n",
       "      <td>0.943950</td>\n",
       "      <td>nxrA.model</td>\n",
       "    </tr>\n",
       "    <tr>\n",
       "      <th>4</th>\n",
       "      <td>nxrA.faa</td>\n",
       "      <td>WP_080885591.1</td>\n",
       "      <td>1145</td>\n",
       "      <td>0.899615</td>\n",
       "      <td>True</td>\n",
       "      <td>0.912709</td>\n",
       "      <td>nxrA.model</td>\n",
       "    </tr>\n",
       "    <tr>\n",
       "      <th>5</th>\n",
       "      <td>nxrA.faa</td>\n",
       "      <td>WP_053381686.1</td>\n",
       "      <td>1145</td>\n",
       "      <td>1.032662</td>\n",
       "      <td>True</td>\n",
       "      <td>0.947545</td>\n",
       "      <td>nxrA.model</td>\n",
       "    </tr>\n",
       "    <tr>\n",
       "      <th>6</th>\n",
       "      <td>nxrA.faa</td>\n",
       "      <td>WP_053378142.1</td>\n",
       "      <td>1145</td>\n",
       "      <td>1.029765</td>\n",
       "      <td>True</td>\n",
       "      <td>0.946950</td>\n",
       "      <td>nxrA.model</td>\n",
       "    </tr>\n",
       "    <tr>\n",
       "      <th>7</th>\n",
       "      <td>nxrA.faa</td>\n",
       "      <td>WP_053381277.1</td>\n",
       "      <td>1145</td>\n",
       "      <td>0.998694</td>\n",
       "      <td>True</td>\n",
       "      <td>0.940158</td>\n",
       "      <td>nxrA.model</td>\n",
       "    </tr>\n",
       "    <tr>\n",
       "      <th>8</th>\n",
       "      <td>nxrA.faa</td>\n",
       "      <td>WP_080886776.1</td>\n",
       "      <td>1147</td>\n",
       "      <td>0.962465</td>\n",
       "      <td>True</td>\n",
       "      <td>0.931212</td>\n",
       "      <td>nxrA.model</td>\n",
       "    </tr>\n",
       "    <tr>\n",
       "      <th>9</th>\n",
       "      <td>nxrA.faa</td>\n",
       "      <td>WP_053381280.1</td>\n",
       "      <td>1145</td>\n",
       "      <td>1.007424</td>\n",
       "      <td>True</td>\n",
       "      <td>0.942145</td>\n",
       "      <td>nxrA.model</td>\n",
       "    </tr>\n",
       "    <tr>\n",
       "      <th>10</th>\n",
       "      <td>nxrA.faa</td>\n",
       "      <td>WP_052491869.1</td>\n",
       "      <td>1163</td>\n",
       "      <td>0.336263</td>\n",
       "      <td>True</td>\n",
       "      <td>0.508016</td>\n",
       "      <td>nxrA.model</td>\n",
       "    </tr>\n",
       "    <tr>\n",
       "      <th>11</th>\n",
       "      <td>nxrA.faa</td>\n",
       "      <td>WP_015257936.1</td>\n",
       "      <td>1167</td>\n",
       "      <td>0.367109</td>\n",
       "      <td>True</td>\n",
       "      <td>0.539624</td>\n",
       "      <td>nxrA.model</td>\n",
       "    </tr>\n",
       "    <tr>\n",
       "      <th>12</th>\n",
       "      <td>nxrA.faa</td>\n",
       "      <td>WP_012964344.1</td>\n",
       "      <td>1154</td>\n",
       "      <td>0.329312</td>\n",
       "      <td>True</td>\n",
       "      <td>0.500876</td>\n",
       "      <td>nxrA.model</td>\n",
       "    </tr>\n",
       "  </tbody>\n",
       "</table>\n",
       "</div>"
      ],
      "text/plain": [
       "    filename     sequence_id  sequence_length     score  in_family  \\\n",
       "0   nxrA.faa  WP_013249767.1             1147  0.875191       True   \n",
       "1   nxrA.faa  WP_080885705.1             1148  0.898012       True   \n",
       "2   nxrA.faa  WP_013249749.1             1146  0.872509       True   \n",
       "3   nxrA.faa  WP_053381689.1             1145  1.015605       True   \n",
       "4   nxrA.faa  WP_080885591.1             1145  0.899615       True   \n",
       "5   nxrA.faa  WP_053381686.1             1145  1.032662       True   \n",
       "6   nxrA.faa  WP_053378142.1             1145  1.029765       True   \n",
       "7   nxrA.faa  WP_053381277.1             1145  0.998694       True   \n",
       "8   nxrA.faa  WP_080886776.1             1147  0.962465       True   \n",
       "9   nxrA.faa  WP_053381280.1             1145  1.007424       True   \n",
       "10  nxrA.faa  WP_052491869.1             1163  0.336263       True   \n",
       "11  nxrA.faa  WP_015257936.1             1167  0.367109       True   \n",
       "12  nxrA.faa  WP_012964344.1             1154  0.329312       True   \n",
       "\n",
       "    probability       model  \n",
       "0      0.904374  nxrA.model  \n",
       "1      0.912183  nxrA.model  \n",
       "2      0.903416  nxrA.model  \n",
       "3      0.943950  nxrA.model  \n",
       "4      0.912709  nxrA.model  \n",
       "5      0.947545  nxrA.model  \n",
       "6      0.946950  nxrA.model  \n",
       "7      0.940158  nxrA.model  \n",
       "8      0.931212  nxrA.model  \n",
       "9      0.942145  nxrA.model  \n",
       "10     0.508016  nxrA.model  \n",
       "11     0.539624  nxrA.model  \n",
       "12     0.500876  nxrA.model  "
      ]
     },
     "execution_count": 20,
     "metadata": {},
     "output_type": "execute_result"
    }
   ],
   "source": [
    "print(\"example family:\\t\", example_family)\n",
    "pd.read_csv(\n",
    "    os.path.join(\"demo_example\", \"output\", \"search\", example_family, f\"{example_family}.csv\")\n",
    ")"
   ]
  },
  {
   "cell_type": "markdown",
   "id": "3cf5c845",
   "metadata": {},
   "source": [
    "In this example application, none of the sequences contained in any of the three unknown files are predicted to belong to the example family, cNorB. The family probability scores themselves (see column: **cNorB_probability**) are very low."
   ]
  },
  {
   "cell_type": "code",
   "execution_count": null,
   "id": "4dd3daa6",
   "metadata": {},
   "outputs": [],
   "source": []
  }
 ],
 "metadata": {
  "kernelspec": {
   "display_name": "snekmer",
   "language": "python",
   "name": "snekmer"
  },
  "language_info": {
   "codemirror_mode": {
    "name": "ipython",
    "version": 3
   },
   "file_extension": ".py",
   "mimetype": "text/x-python",
   "name": "python",
   "nbconvert_exporter": "python",
   "pygments_lexer": "ipython3",
   "version": "3.10.4"
  }
 },
 "nbformat": 4,
 "nbformat_minor": 5
}
